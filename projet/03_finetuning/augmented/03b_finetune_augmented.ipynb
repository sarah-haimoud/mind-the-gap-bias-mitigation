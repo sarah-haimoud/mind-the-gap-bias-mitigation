{
 "cells": [
  {
   "cell_type": "markdown",
   "id": "773bd4eb",
   "metadata": {},
   "source": [
    "# Fine-Tuning on Augmented Dataset\n",
    "\n",
    "This notebook performs masked language model (MLM) fine-tuning using an augmented version of the StereoSet dataset. The aim is to improve the model's ability to generate unbiased predictions by incorporating more antistereotypical examples.\n"
   ]
  },
  {
   "cell_type": "code",
   "execution_count": 1,
   "id": "d6e729b9",
   "metadata": {},
   "outputs": [],
   "source": [
    "from datasets import load_from_disk\n",
    "\n",
    "dataset_path = \"C:/Users/sarah/Documents/ERASMUS/NLP/augmented_dataset\"\n",
    "dataset = load_from_disk(dataset_path)\n",
    "dataset[\"train\"] = dataset[\"train\"].select(range(100))  # ou même 50\n",
    "dataset[\"test\"] = dataset[\"test\"].select(range(20))\n",
    "\n"
   ]
  },
  {
   "cell_type": "code",
   "execution_count": 2,
   "id": "5b94e5e6",
   "metadata": {},
   "outputs": [
    {
     "name": "stdout",
     "output_type": "stream",
     "text": [
      "DatasetDict({\n",
      "    train: Dataset({\n",
      "        features: ['text', 'label'],\n",
      "        num_rows: 100\n",
      "    })\n",
      "    test: Dataset({\n",
      "        features: ['text', 'label'],\n",
      "        num_rows: 20\n",
      "    })\n",
      "})\n",
      "{'text': 'The engineer is nerdy.', 'label': 0}\n"
     ]
    }
   ],
   "source": [
    "print(dataset)\n",
    "print(dataset[\"train\"][0])"
   ]
  },
  {
   "cell_type": "code",
   "execution_count": 3,
   "id": "7225e37c",
   "metadata": {},
   "outputs": [
    {
     "name": "stderr",
     "output_type": "stream",
     "text": [
      "c:\\Users\\sarah\\biasenv\\lib\\site-packages\\transformers\\utils\\generic.py:441: FutureWarning: `torch.utils._pytree._register_pytree_node` is deprecated. Please use `torch.utils._pytree.register_pytree_node` instead.\n",
      "  _torch_pytree._register_pytree_node(\n",
      "c:\\Users\\sarah\\biasenv\\lib\\site-packages\\huggingface_hub\\file_download.py:943: FutureWarning: `resume_download` is deprecated and will be removed in version 1.0.0. Downloads always resume when possible. If you want to force a new download, use `force_download=True`.\n",
      "  warnings.warn(\n"
     ]
    },
    {
     "data": {
      "application/vnd.jupyter.widget-view+json": {
       "model_id": "420b46608ea34b0e8ff311d8c892f7b4",
       "version_major": 2,
       "version_minor": 0
      },
      "text/plain": [
       "Map:   0%|          | 0/100 [00:00<?, ? examples/s]"
      ]
     },
     "metadata": {},
     "output_type": "display_data"
    },
    {
     "data": {
      "application/vnd.jupyter.widget-view+json": {
       "model_id": "b19d9eccdeb1460d86704e35f2351fe0",
       "version_major": 2,
       "version_minor": 0
      },
      "text/plain": [
       "Map:   0%|          | 0/20 [00:00<?, ? examples/s]"
      ]
     },
     "metadata": {},
     "output_type": "display_data"
    }
   ],
   "source": [
    "from transformers import AutoTokenizer\n",
    "\n",
    "tokenizer = AutoTokenizer.from_pretrained(\"distilbert-base-uncased\")\n",
    "\n",
    "def tokenize_function(example):\n",
    "    return tokenizer(example[\"text\"], padding=\"max_length\", truncation=True)\n",
    "\n",
    "tokenized_dataset = dataset.map(tokenize_function, batched=True)\n",
    "tokenized_train = tokenized_dataset[\"train\"]\n",
    "tokenized_eval = tokenized_dataset[\"test\"]\n"
   ]
  },
  {
   "cell_type": "code",
   "execution_count": null,
   "id": "134bd7c8",
   "metadata": {},
   "outputs": [
    {
     "name": "stderr",
     "output_type": "stream",
     "text": [
      "W0630 17:35:00.128803 15344 Lib\\site-packages\\torch\\distributed\\elastic\\multiprocessing\\redirects.py:29] NOTE: Redirects are currently not supported in Windows or MacOs.\n",
      "c:\\Users\\sarah\\biasenv\\lib\\site-packages\\transformers\\utils\\generic.py:309: FutureWarning: `torch.utils._pytree._register_pytree_node` is deprecated. Please use `torch.utils._pytree.register_pytree_node` instead.\n",
      "  _torch_pytree._register_pytree_node(\n",
      "c:\\Users\\sarah\\biasenv\\lib\\site-packages\\huggingface_hub\\file_download.py:943: FutureWarning: `resume_download` is deprecated and will be removed in version 1.0.0. Downloads always resume when possible. If you want to force a new download, use `force_download=True`.\n",
      "  warnings.warn(\n",
      "Some weights of DistilBertForSequenceClassification were not initialized from the model checkpoint at distilbert-base-uncased and are newly initialized: ['pre_classifier.weight', 'classifier.bias', 'classifier.weight', 'pre_classifier.bias']\n",
      "You should probably TRAIN this model on a down-stream task to be able to use it for predictions and inference.\n"
     ]
    }
   ],
   "source": [
    "from transformers import (\n",
    "    AutoModelForSequenceClassification,\n",
    "    TrainingArguments,\n",
    "    DataCollatorWithPadding,\n",
    "    Trainer\n",
    ")\n",
    "\n",
    "model = AutoModelForSequenceClassification.from_pretrained(\"distilbert-base-uncased\", num_labels=2)\n",
    "\n",
    "training_args = TrainingArguments(\n",
    "    output_dir=\"./results_augmented\",\n",
    "    evaluation_strategy=\"epoch\",\n",
    "    save_strategy=\"no\",  # évite d’écrire à chaque epoch\n",
    "    per_device_train_batch_size=32,     # accélère\n",
    "    per_device_eval_batch_size=32 ,\n",
    "    num_train_epochs=1,                 # 1 epoch seulement\n",
    "    learning_rate=3e-5,\n",
    "    weight_decay=0.01,\n",
    "    logging_dir=\"./logs_augmented\",\n",
    "    logging_steps=20,\n",
    "    report_to=\"none\"\n",
    ")\n",
    "\n",
    "data_collator = DataCollatorWithPadding(tokenizer=tokenizer)"
   ]
  },
  {
   "cell_type": "markdown",
   "id": "d04ce158",
   "metadata": {},
   "source": [
    "## Training the Model\n",
    "\n",
    "Fine-tuning is performed on the augmented dataset using the Hugging Face `Trainer` API."
   ]
  },
  {
   "cell_type": "code",
   "execution_count": 5,
   "id": "d51ea8f4",
   "metadata": {},
   "outputs": [
    {
     "data": {
      "application/vnd.jupyter.widget-view+json": {
       "model_id": "834d46fc60af4ae2b20fccb891d1f278",
       "version_major": 2,
       "version_minor": 0
      },
      "text/plain": [
       "  0%|          | 0/4 [00:00<?, ?it/s]"
      ]
     },
     "metadata": {},
     "output_type": "display_data"
    },
    {
     "name": "stderr",
     "output_type": "stream",
     "text": [
      "c:\\Users\\sarah\\biasenv\\lib\\site-packages\\torch\\utils\\data\\dataloader.py:665: UserWarning: 'pin_memory' argument is set as true but no accelerator is found, then device pinned memory won't be used.\n",
      "  warnings.warn(warn_msg)\n",
      "You're using a DistilBertTokenizerFast tokenizer. Please note that with a fast tokenizer, using the `__call__` method is faster than using a method to encode the text followed by a call to the `pad` method to get a padded encoding.\n"
     ]
    },
    {
     "data": {
      "application/vnd.jupyter.widget-view+json": {
       "model_id": "11d9853269714f8990de15eb07e5e09b",
       "version_major": 2,
       "version_minor": 0
      },
      "text/plain": [
       "  0%|          | 0/1 [00:00<?, ?it/s]"
      ]
     },
     "metadata": {},
     "output_type": "display_data"
    },
    {
     "name": "stdout",
     "output_type": "stream",
     "text": [
      "{'eval_loss': 0.6377898454666138, 'eval_runtime': 11.2704, 'eval_samples_per_second': 1.775, 'eval_steps_per_second': 0.089, 'epoch': 1.0}\n",
      "{'train_runtime': 1337.2365, 'train_samples_per_second': 0.075, 'train_steps_per_second': 0.003, 'train_loss': 0.6181116104125977, 'epoch': 1.0}\n"
     ]
    },
    {
     "data": {
      "text/plain": [
       "TrainOutput(global_step=4, training_loss=0.6181116104125977, metrics={'train_runtime': 1337.2365, 'train_samples_per_second': 0.075, 'train_steps_per_second': 0.003, 'train_loss': 0.6181116104125977, 'epoch': 1.0})"
      ]
     },
     "execution_count": 5,
     "metadata": {},
     "output_type": "execute_result"
    }
   ],
   "source": [
    "from transformers import Trainer\n",
    "\n",
    "trainer = Trainer(\n",
    "    model=model,\n",
    "    args=training_args,\n",
    "    train_dataset=tokenized_train,\n",
    "    eval_dataset=tokenized_eval,\n",
    "    tokenizer=tokenizer,\n",
    "    data_collator=data_collator,\n",
    ")\n",
    "\n",
    "trainer.train()\n"
   ]
  },
  {
   "cell_type": "code",
   "execution_count": 6,
   "id": "6720c996",
   "metadata": {},
   "outputs": [
    {
     "data": {
      "text/plain": [
       "('finetuned_distilbert_augmented\\\\tokenizer_config.json',\n",
       " 'finetuned_distilbert_augmented\\\\special_tokens_map.json',\n",
       " 'finetuned_distilbert_augmented\\\\vocab.txt',\n",
       " 'finetuned_distilbert_augmented\\\\added_tokens.json',\n",
       " 'finetuned_distilbert_augmented\\\\tokenizer.json')"
      ]
     },
     "execution_count": 6,
     "metadata": {},
     "output_type": "execute_result"
    }
   ],
   "source": [
    "trainer.save_model(\"finetuned_distilbert_augmented\")\n",
    "tokenizer.save_pretrained(\"finetuned_distilbert_augmented\")\n"
   ]
  },
  {
   "cell_type": "markdown",
   "id": "f2525b8b",
   "metadata": {},
   "source": [
    "## Summary\n",
    "\n",
    "The model has been fine-tuned on an augmented dataset that includes additional antistereotypical examples. This version will be evaluated to assess improvements in bias mitigation.\n"
   ]
  }
 ],
 "metadata": {
  "kernelspec": {
   "display_name": "biasenv",
   "language": "python",
   "name": "python3"
  },
  "language_info": {
   "codemirror_mode": {
    "name": "ipython",
    "version": 3
   },
   "file_extension": ".py",
   "mimetype": "text/x-python",
   "name": "python",
   "nbconvert_exporter": "python",
   "pygments_lexer": "ipython3",
   "version": "3.10.0"
  }
 },
 "nbformat": 4,
 "nbformat_minor": 5
}
